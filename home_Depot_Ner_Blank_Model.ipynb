{
 "cells": [
  {
   "cell_type": "code",
   "execution_count": null,
   "id": "00526fb2-a971-4070-ab1f-7d0e681722bd",
   "metadata": {},
   "outputs": [],
   "source": [
    "#!python3 -m spacy download en_core_web_lg"
   ]
  },
  {
   "cell_type": "code",
   "execution_count": null,
   "id": "598c18ca-6784-46b0-876c-3785668e77cd",
   "metadata": {},
   "outputs": [],
   "source": [
    "#!pip install 'spacy[apple]'"
   ]
  },
  {
   "cell_type": "code",
   "execution_count": 3,
   "id": "f16aa4ef-9f10-416d-bc0d-760d0ad4360e",
   "metadata": {},
   "outputs": [],
   "source": [
    "from spacy.util import filter_spans\n",
    "import json\n",
    "import spacy\n",
    "from spacy.tokens import DocBin\n",
    "from tqdm import tqdm"
   ]
  },
  {
   "cell_type": "code",
   "execution_count": 4,
   "id": "c92e2ab1-12cc-420f-b00c-a4c36bc21382",
   "metadata": {},
   "outputs": [
    {
     "name": "stdout",
     "output_type": "stream",
     "text": [
      "['PERCENTAGE', 'MATERIAL', 'FEATURE', 'PRODUCT', 'SIZE', 'LIVING_BEING', 'TEMPERATURE', 'COLOR', 'SHAPE', 'ORG', 'AREA']\n"
     ]
    }
   ],
   "source": [
    "training_data = ''\n",
    "with open('example.json', 'r') as f:\n",
    "    data = json.load(f)\n",
    "    training_data = data\n",
    "    \n",
    "#print(training_data['annotations'])\n",
    "\n",
    "\n",
    "classes = []\n",
    "for example in training_data['classes']:\n",
    "  classes.append(example)\n",
    "\n",
    "print(classes)\n",
    "\n"
   ]
  },
  {
   "cell_type": "code",
   "execution_count": 5,
   "id": "342e7a07-8f89-4d4b-813b-817956ffb5e0",
   "metadata": {},
   "outputs": [],
   "source": [
    "text = []\n",
    "#for example in training_data['annotations']:\n",
    "    #text.append(example)\n",
    "    #print(example)\n",
    "#print(text)"
   ]
  },
  {
   "cell_type": "code",
   "execution_count": 6,
   "id": "a225974d-1841-4d4d-b16f-f4b3746cb219",
   "metadata": {},
   "outputs": [],
   "source": [
    "entities = [] \n",
    "for example in training_data['annotations']:\n",
    "    entities.append(example[1]['entities'])\n",
    "\n",
    "#print(entities)\n",
    "\n",
    "eachEnts = []\n",
    "for x in entities:\n",
    "    for x2 in x:\n",
    "        eachEnts.append(x2)\n"
   ]
  },
  {
   "cell_type": "code",
   "execution_count": 7,
   "id": "6cc71160-e749-4d98-8f4d-3fba6ffe69e5",
   "metadata": {},
   "outputs": [
    {
     "name": "stdout",
     "output_type": "stream",
     "text": [
      "[[5, 16, 'FEATURE'], [18, 33, 'FEATURE'], [41, 51, 'PRODUCT'], [109, 112, 'PERCENTAGE'], [124, 133, 'MATERIAL'], [145, 149, 'FEATURE'], [150, 158, 'FEATURE'], [159, 166, 'FEATURE'], [167, 183, 'FEATURE'], [194, 206, 'FEATURE'], [247, 261, 'FEATURE'], [262, 267, 'MATERIAL'], [292, 303, 'FEATURE'], [326, 334, 'FEATURE'], [350, 361, 'FEATURE'], [363, 381, 'FEATURE']]\n"
     ]
    }
   ],
   "source": [
    "# data_row = {}\n",
    "# data_row['text'] = text\n",
    "# data_row['entities'] = eachEnts\n",
    "\n",
    "print(eachEnts)\n",
    "#print(data_row['entities'])\n"
   ]
  },
  {
   "cell_type": "code",
   "execution_count": 8,
   "id": "4583aebc-a901-4e8c-b86e-853f59388a30",
   "metadata": {},
   "outputs": [
    {
     "name": "stdout",
     "output_type": "stream",
     "text": [
      "477\n",
      "25\n"
     ]
    }
   ],
   "source": [
    "a_data = ''\n",
    "with open('hd_tecoholic_annotations.json', 'r') as f:\n",
    "    data = json.load(f)\n",
    "    a_data = data\n",
    "\n",
    "ents_list = []\n",
    "text_data = []\n",
    "\n",
    "annoSize = len(a_data['annotations'])\n",
    "\n",
    "for x in a_data['annotations']:\n",
    "    for xxx in x[1]['entities']:\n",
    "        # print(xxx)\n",
    "        # print(\"\")\n",
    "        ents_list.append(xxx)\n",
    "    #print(x[0])\n",
    "    #print(\"\")\n",
    "    text_data.append(x[0])\n",
    "\n",
    "print(len(ents_list))\n",
    "print(len(text_data))\n",
    "\n"
   ]
  },
  {
   "cell_type": "code",
   "execution_count": 9,
   "id": "9f5b6151-d1a0-4cbe-9735-d00e3528e8b4",
   "metadata": {},
   "outputs": [],
   "source": [
    "number = 0\n",
    "#print(text_data[10])\n",
    "\n",
    "#for ex in range(text_size):\n",
    "    #print(a_data['annotations'][ex][0])\n",
    "    #print(a_data['annotations'][ex][1])\n",
    "   # for fx in a_data['annotations'][ex][1]['entities']:\n",
    "        #print(fx)\n",
    "    #print(\" \")"
   ]
  },
  {
   "cell_type": "code",
   "execution_count": 10,
   "id": "7e0a44cc-7333-4e16-99f7-87f67278dd11",
   "metadata": {},
   "outputs": [],
   "source": [
    "feed = {}\n",
    "feed['classes'] = classes\n",
    "feed['annotations'] = []\n",
    "\n",
    "ent_size = len(ents_list)\n",
    "text_size = len(text_data)\n",
    "num = 0 \n",
    "for example in range(text_size):\n",
    "  data_row = {}\n",
    "  data_row['text'] = a_data['annotations'][example][0]\n",
    "  data_row['entities'] = []\n",
    "\n",
    "  for annotation in a_data['annotations'][example][1]['entities']:\n",
    "    start = annotation[0]\n",
    "    end = annotation[1]\n",
    "    label = annotation[2]\n",
    "    data_row['entities'].append((start, end, label))\n",
    "  #print(data_row)\n",
    "  feed['annotations'].append(data_row)\n",
    "  #print(len(feed['annotations']))"
   ]
  },
  {
   "cell_type": "code",
   "execution_count": 11,
   "id": "75cb029d-ea97-4ba2-9688-2eb33c639ea0",
   "metadata": {},
   "outputs": [],
   "source": [
    "# for x in feed['classes']:\n",
    "#     print(x)"
   ]
  },
  {
   "cell_type": "code",
   "execution_count": null,
   "id": "73cc58ec-a46e-4d65-91a0-a80349b2742c",
   "metadata": {},
   "outputs": [],
   "source": [
    "!pip install -U pip setuptools wheel\n",
    "!pip install -U spacy\n",
    "\n",
    "# Use python explicitly to grab info. \n",
    "!python3 -m spacy info\n",
    "\n",
    "# Just confirm the versions via pip too\n",
    "!python3 -m pip freeze | grep spacy\n",
    "\n",
    "# Download the en_core_web_sm model explicitly \n",
    "!python3 -m spacy download en_core_web_sm\n",
    "\n",
    "\n"
   ]
  },
  {
   "cell_type": "code",
   "execution_count": null,
   "id": "38f8beaa-6d70-4f39-b5c1-4a509b791105",
   "metadata": {},
   "outputs": [],
   "source": [
    "import spacy\n",
    "nlp = spacy.blank('en')\n",
    "doc_bin = DocBin()"
   ]
  },
  {
   "cell_type": "code",
   "execution_count": null,
   "id": "99cedf6a-a45e-43d4-b489-072c87d55ae8",
   "metadata": {},
   "outputs": [],
   "source": [
    "for emp in tqdm(feed['annotations']):\n",
    "    text = emp['text']\n",
    "    labels = emp['entities']\n",
    "    doc = nlp.make_doc(text)\n",
    "    text_ents = []\n",
    "    for start, end, label in labels:\n",
    "        span =  doc.char_span(start, end, label = label, alignment_mode=\"contract\")\n",
    "        if span is not None:\n",
    "            text_ents.append(span)\n",
    "    filtered_ents = filter_spans(text_ents)\n",
    "    doc.ents = filtered_ents\n",
    "    doc_bin.add(doc)\n",
    "doc_bin.to_disk(\"train.spacy\")\n",
    "nlp.to_disk(\"myNer\")"
   ]
  },
  {
   "cell_type": "code",
   "execution_count": null,
   "id": "f90c1fb4-63d2-4421-afb3-c56561a49d56",
   "metadata": {},
   "outputs": [],
   "source": [
    "!python3 -m spacy init fill-config base_config.cfg config.cfg"
   ]
  },
  {
   "cell_type": "code",
   "execution_count": null,
   "id": "ee4e3ed1-ee77-432e-9010-954bbcb1db63",
   "metadata": {},
   "outputs": [],
   "source": [
    "!python3 -m spacy train config.cfg --paths.train ./train.spacy --paths.dev ./train.spacy --gpu-id 0"
   ]
  },
  {
   "cell_type": "code",
   "execution_count": null,
   "id": "03e123f4-1fb0-4071-aed1-b6fe7fb8c6b7",
   "metadata": {},
   "outputs": [],
   "source": [
    "from spacy import displacy\n",
    "\n",
    "nlp_ner = spacy.load(\"myNer\")\n",
    "\n",
    "doc = nlp_ner(\"This heavyweight, water-repellent hooded sweatshirt has a zip front for fast layering. ORIGINAL FIT. 13 oz., 75% cotton/25% polyester blend with Rain Defender durable water repellent. Attached, jersey-lined three-piece hood with drawcord closure. Antique-finish brass front zipper. Two front hand-warmer pockets have a hidden security pocket inside. Stretchable, spandex-reinforced rib-knit cuffs and waistband. Locker loop facilitates hanging.\")\n",
    "\n",
    "colors = {\"PRODUCT\": \"#F67DE3\", \"MSERVICE\": \"#7DF6D9\", \"PROCESS\":\"#FFFFFF\" ,'PERCENTAGE': \"#F67DE3\", 'MATERIAL': \"#F67DE3\", 'FEATURE': \"#F67DE3\",\n",
    "         'SIZE': \"#F67DE3\", 'LIVING_BEING': \"#F67DE3\", 'TEMPERATURE': \"#F67DE3\", 'COLOR': \"#F67DE3\", 'SHAPE': \"#F67DE3\", 'ORG': \"#F67DE3\", 'AREA': \"#F67DE3\"}\n",
    "\n",
    "options = {\"colors\": colors} \n",
    "\n",
    "spacy.displacy.render(doc, style=\"ent\", options= options, jupyter=True)"
   ]
  },
  {
   "cell_type": "code",
   "execution_count": null,
   "id": "188cdf90-23b4-494e-b989-f28ffce59cca",
   "metadata": {},
   "outputs": [],
   "source": [
    "print(\"hello\")"
   ]
  },
  {
   "cell_type": "code",
   "execution_count": null,
   "id": "1b3a5588-afed-4a1e-917e-ca93095b57c5",
   "metadata": {},
   "outputs": [],
   "source": []
  }
 ],
 "metadata": {
  "kernelspec": {
   "display_name": "Python 3 (ipykernel)",
   "language": "python",
   "name": "python3"
  },
  "language_info": {
   "codemirror_mode": {
    "name": "ipython",
    "version": 3
   },
   "file_extension": ".py",
   "mimetype": "text/x-python",
   "name": "python",
   "nbconvert_exporter": "python",
   "pygments_lexer": "ipython3",
   "version": "3.12.1"
  }
 },
 "nbformat": 4,
 "nbformat_minor": 5
}
